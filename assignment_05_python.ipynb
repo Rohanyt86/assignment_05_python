{
 "cells": [
  {
   "cell_type": "markdown",
   "id": "0389e69d",
   "metadata": {},
   "source": [
    "#### Q1 Who developed python programming language?"
   ]
  },
  {
   "cell_type": "code",
   "execution_count": null,
   "id": "c658bc7b",
   "metadata": {},
   "outputs": [],
   "source": [
    "Guido Vam Rossum developed Pyhton Programming Language."
   ]
  },
  {
   "cell_type": "markdown",
   "id": "33a7b02f",
   "metadata": {},
   "source": [
    "#### Q2. Which type of Programming does python support?"
   ]
  },
  {
   "cell_type": "code",
   "execution_count": null,
   "id": "a9f73f51",
   "metadata": {},
   "outputs": [],
   "source": [
    "Python is a versatile programming language that supports several programming paradigms and styles, making it suitable for a wide range of applications."
   ]
  },
  {
   "cell_type": "markdown",
   "id": "6d136d7f",
   "metadata": {},
   "source": [
    "#### Q3 Is python case sensitive when dealing with identifiers?"
   ]
  },
  {
   "cell_type": "code",
   "execution_count": null,
   "id": "a56676e0",
   "metadata": {},
   "outputs": [],
   "source": [
    "Yes it is case sensitive when dealing with identifiers."
   ]
  },
  {
   "cell_type": "markdown",
   "id": "227745ad",
   "metadata": {},
   "source": [
    "#### Q4 What is correct extension for Python file?"
   ]
  },
  {
   "cell_type": "code",
   "execution_count": null,
   "id": "b3422877",
   "metadata": {},
   "outputs": [],
   "source": [
    "The correct extension for python file is .py"
   ]
  },
  {
   "cell_type": "markdown",
   "id": "9fc14e25",
   "metadata": {},
   "source": [
    "#### Q5.  Is python code is complied or Interpreter?"
   ]
  },
  {
   "cell_type": "markdown",
   "id": "6ec51cfc",
   "metadata": {},
   "source": [
    "It contain both Complied and interpreter."
   ]
  },
  {
   "cell_type": "markdown",
   "id": "89109e64",
   "metadata": {},
   "source": [
    "#### Q6. name a few blocks of code define in Python programming. "
   ]
  },
  {
   "cell_type": "code",
   "execution_count": null,
   "id": "ad66dd6d",
   "metadata": {},
   "outputs": [],
   "source": [
    "It contains.\n",
    "1) Conditional statement.\n",
    "2) Loops\n",
    "3) Function\n",
    "4) classes \n",
    "5) with statement\n",
    "6) Try and except"
   ]
  },
  {
   "cell_type": "markdown",
   "id": "9b1edf07",
   "metadata": {},
   "source": [
    "#### Q7. State a character to use a single line comments in python?"
   ]
  },
  {
   "cell_type": "code",
   "execution_count": null,
   "id": "f44fe960",
   "metadata": {},
   "outputs": [],
   "source": [
    "\"\" is single line comment"
   ]
  },
  {
   "cell_type": "markdown",
   "id": "5517e453",
   "metadata": {},
   "source": [
    "#### Q8. Mention a function that can helps us to find the version of python that we are working on?"
   ]
  },
  {
   "cell_type": "code",
   "execution_count": null,
   "id": "a758ce09",
   "metadata": {},
   "outputs": [],
   "source": [
    "first import sys \n",
    "it print(sys.version)"
   ]
  },
  {
   "cell_type": "markdown",
   "id": "f363c2ba",
   "metadata": {},
   "source": [
    "#### Q9. Python support creation a anonymous function at runtime, using a construct called ?"
   ]
  },
  {
   "cell_type": "code",
   "execution_count": null,
   "id": "3e88013d",
   "metadata": {},
   "outputs": [],
   "source": [
    "Python support creation a anonymous function at runtime, using a construct called lambda"
   ]
  },
  {
   "cell_type": "markdown",
   "id": "bd86ee4e",
   "metadata": {},
   "source": [
    "#### Q10. what does pip stand for?"
   ]
  },
  {
   "cell_type": "code",
   "execution_count": null,
   "id": "6623a8cb",
   "metadata": {},
   "outputs": [],
   "source": [
    "package manager for Python packages."
   ]
  },
  {
   "cell_type": "markdown",
   "id": "84fa2de5",
   "metadata": {},
   "source": [
    "#### Q11. Mention a  few built in function in python?"
   ]
  },
  {
   "cell_type": "code",
   "execution_count": null,
   "id": "fae598ad",
   "metadata": {},
   "outputs": [],
   "source": [
    "print(): Used for printing output to the console.\n",
    "\n",
    "len(): Returns the length (number of elements) of an iterable (e.g., a list, string, or tuple).\n",
    "\n",
    "type(): Returns the data type of an object.\n",
    "\n",
    "int(), float(), str(), list(), tuple(), dict(), set(): Used for type conversion and creating new objects of specific types.\n",
    "\n",
    "input(): Reads user input from the console."
   ]
  },
  {
   "cell_type": "markdown",
   "id": "6e4bc553",
   "metadata": {},
   "source": [
    "#### Q12. What maximum possible length of an identifier in Python?"
   ]
  },
  {
   "cell_type": "code",
   "execution_count": null,
   "id": "4b0cc3bf",
   "metadata": {},
   "outputs": [],
   "source": [
    "79 charachter possible length of an identifier in python."
   ]
  },
  {
   "cell_type": "markdown",
   "id": "40c39af9",
   "metadata": {},
   "source": [
    "#### Q13. What are the benefits of using python?"
   ]
  },
  {
   "cell_type": "code",
   "execution_count": null,
   "id": "8476dc2a",
   "metadata": {},
   "outputs": [],
   "source": [
    "1) Easy to use\n",
    "2) Contain huge ecosytem \n",
    "3) Having free open sources\n",
    "4) Large Standard Liability\n",
    "5) Its used in every field"
   ]
  },
  {
   "cell_type": "markdown",
   "id": "831d54da",
   "metadata": {},
   "source": [
    "#### Q14. How is memory managed in python?"
   ]
  },
  {
   "cell_type": "code",
   "execution_count": null,
   "id": "71e97de7",
   "metadata": {},
   "outputs": [],
   "source": [
    "Memory management in Python is primarily handled by the Python memory manager, which automates memory allocation and \n",
    "deallocation, relieving the programmer of low-level memory management tasks. Python uses a combination of techniques, \n",
    "including reference counting and a garbage collector, to manage memory efficiently."
   ]
  },
  {
   "cell_type": "markdown",
   "id": "749f717d",
   "metadata": {},
   "source": [
    "#### Q15. How to install python on windows and set path variable?"
   ]
  },
  {
   "cell_type": "code",
   "execution_count": null,
   "id": "bcc6ebeb",
   "metadata": {},
   "outputs": [],
   "source": [
    "To install python use pip install python.\n",
    "You can set or modify environment variables, including the PATH variable, using the os module. "
   ]
  },
  {
   "cell_type": "markdown",
   "id": "975f020a",
   "metadata": {},
   "source": [
    "#### Q16. Indenstation is required in python?"
   ]
  },
  {
   "cell_type": "code",
   "execution_count": null,
   "id": "8e171e5f",
   "metadata": {},
   "outputs": [],
   "source": [
    "Yes, indentation is required in Python. Indentation is a fundamental aspect of Python's syntax and plays a\n",
    "crucial role in determining the structure and nesting of code blocks. "
   ]
  }
 ],
 "metadata": {
  "kernelspec": {
   "display_name": "Python 3 (ipykernel)",
   "language": "python",
   "name": "python3"
  },
  "language_info": {
   "codemirror_mode": {
    "name": "ipython",
    "version": 3
   },
   "file_extension": ".py",
   "mimetype": "text/x-python",
   "name": "python",
   "nbconvert_exporter": "python",
   "pygments_lexer": "ipython3",
   "version": "3.9.13"
  }
 },
 "nbformat": 4,
 "nbformat_minor": 5
}
